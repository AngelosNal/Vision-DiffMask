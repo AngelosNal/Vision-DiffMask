{
 "cells": [
  {
   "cell_type": "code",
   "execution_count": 1,
   "metadata": {
    "pycharm": {
     "name": "#%%\n"
    }
   },
   "outputs": [],
   "source": [
    "import sys\n",
    "sys.path.insert(0,'../code')"
   ]
  },
  {
   "cell_type": "code",
   "execution_count": 2,
   "metadata": {
    "pycharm": {
     "name": "#%%\n"
    }
   },
   "outputs": [
    {
     "name": "stderr",
     "output_type": "stream",
     "text": [
      "/home/angelos/anaconda3/envs/dl2/lib/python3.9/site-packages/tqdm/auto.py:22: TqdmWarning: IProgress not found. Please update jupyter and ipywidgets. See https://ipywidgets.readthedocs.io/en/stable/user_install.html\n",
      "  from .autonotebook import tqdm as notebook_tqdm\n"
     ]
    }
   ],
   "source": [
    "import torch\n",
    "import torch.nn.functional as F\n",
    "import numpy as np\n",
    "from datamodules.transformations import UnNest\n",
    "from transformers import ViTFeatureExtractor, ViTForImageClassification\n",
    "from tqdm.auto import tqdm\n",
    "from datamodules.image_classification import CIFAR10DataModule\n",
    "from models.interpretation import ImageInterpretationNet\n",
    "from utils.getters_setters import vit_getter, vit_setter\n",
    "from attributions.grad_cam import grad_cam\n",
    "from attributions.attention_rollout import attention_rollout\n",
    "from attributions.chefer import chefer_attributions\n",
    "from utils.plot import smoothen\n",
    "import matplotlib.ticker as mtick\n",
    "import matplotlib.pyplot as plt"
   ]
  },
  {
   "cell_type": "markdown",
   "metadata": {
    "pycharm": {
     "name": "#%% md\n"
    }
   },
   "source": [
    "### Load CIFAR-10 Test Split and Model"
   ]
  },
  {
   "cell_type": "code",
   "execution_count": 3,
   "metadata": {
    "pycharm": {
     "name": "#%%\n"
    }
   },
   "outputs": [
    {
     "name": "stdout",
     "output_type": "stream",
     "text": [
      "Files already downloaded and verified\n",
      "Files already downloaded and verified\n"
     ]
    }
   ],
   "source": [
    "device = 'cuda' if torch.cuda.is_available() else 'cpu'\n",
    "\n",
    "vit = ViTForImageClassification.from_pretrained(\"tanlq/vit-base-patch16-224-in21k-finetuned-cifar10\").to(device)\n",
    "\n",
    "diffmask = ImageInterpretationNet.load_from_checkpoint('../checkpoints/diffmask.ckpt').to(device)\n",
    "\n",
    "feature_extractor=ViTFeatureExtractor.from_pretrained(\n",
    "    \"tanlq/vit-base-patch16-224-in21k-finetuned-cifar10\", return_tensors=\"pt\"\n",
    ")\n",
    "feature_extractor = UnNest(feature_extractor)\n",
    "\n",
    "batch_size = 4\n",
    "\n",
    "dm = CIFAR10DataModule(feature_extractor=feature_extractor, batch_size=batch_size)\n",
    "dm.prepare_data()\n",
    "dm.setup('test')\n",
    "dataloader = dm.test_dataloader()"
   ]
  },
  {
   "cell_type": "markdown",
   "metadata": {},
   "source": [
    "# AUC"
   ]
  },
  {
   "cell_type": "markdown",
   "metadata": {},
   "source": [
    "### Function to measure area under curve (AUC). "
   ]
  },
  {
   "cell_type": "code",
   "execution_count": null,
   "metadata": {},
   "outputs": [
    {
     "name": "stderr",
     "output_type": "stream",
     "text": [
      "  2%|▉                                           | 1/50 [00:16<13:26, 16.46s/it]"
     ]
    }
   ],
   "source": [
    "def unravel_index(index, shape):\n",
    "        out = []\n",
    "        for dim in reversed(shape):\n",
    "            out.append(index % dim)\n",
    "            index = torch.div(index, dim, rounding_mode='trunc')\n",
    "        return tuple(reversed(out))\n",
    "\n",
    "def auc(model, input, labels, attributions, positive=True, k=0.2, num_tokens=1):\n",
    "    area = []\n",
    "    B, H, W = attributions.shape\n",
    "    attributions = attributions.reshape(B, -1)\n",
    "    # Get hidden states from unmasked input\n",
    "    logits_orig, hidden_states = vit_getter(model, input)\n",
    "    probs_orig = logits_orig.softmax(-1)\n",
    "    if not labels:\n",
    "        labels = probs_orig.argmax(-1)\n",
    "\n",
    "    drop_k = int(k * attributions.shape[1])\n",
    "\n",
    "    for i in range(0, drop_k + 1, 256 * num_tokens):\n",
    "        keep_k = attributions.shape[1] - i\n",
    "        idx = attributions.topk(keep_k, dim=1, largest=(not positive)).indices.sort()[0].squeeze(-1)\n",
    "\n",
    "        torch.manual_seed(123)\n",
    "        f = torch.rand((B, input.shape[1], H, W), device=device)*2 - 1 # Baseline pixels\n",
    "        for i in range(B):\n",
    "            idx_i = idx[i]\n",
    "            unraveled_idx = unravel_index(idx_i, (H, W))\n",
    "            f[i, :, unraveled_idx[0], unraveled_idx[1]] = input[i, :, unraveled_idx[0], unraveled_idx[1]]\n",
    "\n",
    "        # Forward pass through the model to get the logits\n",
    "        logits, hidden_states = vit_getter(model, f)\n",
    "        probs = logits.softmax(-1)\n",
    "\n",
    "        area.append(probs[range(B), labels].mean().item())\n",
    "\n",
    "    return area\n",
    "\n",
    "def calculate_auc(positive=True, method='diffmask'):\n",
    "    auc_positive = []\n",
    "    for i, (images, labels) in tqdm(enumerate(dataloader), total=50):\n",
    "        if i == 50: break\n",
    "#         images, labels = images.cuda(), labels.cuda()\n",
    "        if method == 'diffmask':\n",
    "            attributions = diffmask.get_mask(images)[\"mask\"].detach()\n",
    "        elif method == 'rollout':\n",
    "            attributions = attention_rollout(images=images, vit=vit, device=device)\n",
    "        elif method == 'gradcam':\n",
    "            images.requires_grad = True\n",
    "            attributions = grad_cam(images, vit, True if device=='cuda' else False)\n",
    "        elif method == 'chefer':\n",
    "            images.requires_grad = True\n",
    "            attributions = torch.stack([chefer_attributions(vit.cpu(), img) for img in images])\n",
    "        comp = auc(vit.cpu(), images.cpu(), None, attributions.cpu(), num_tokens=7, k=1, positive=positive)\n",
    "        auc_positive.append(comp)\n",
    "    return auc_positive\n",
    "\n",
    "auc_pos_chefer = np.asarray(calculate_auc(positive=True, method='chefer')).mean(0)\n",
    "auc_neg_chefer = np.asarray(calculate_auc(positive=False, method='chefer')).mean(0)"
   ]
  },
  {
   "cell_type": "markdown",
   "metadata": {},
   "source": [
    "### AUC for Grad-CAM"
   ]
  },
  {
   "cell_type": "code",
   "execution_count": 6,
   "metadata": {},
   "outputs": [
    {
     "name": "stderr",
     "output_type": "stream",
     "text": [
      "100%|███████████████████████████████████████████| 50/50 [01:18<00:00,  1.58s/it]\n",
      "100%|███████████████████████████████████████████| 50/50 [01:19<00:00,  1.60s/it]\n"
     ]
    }
   ],
   "source": [
    "auc_pos_gradcam = np.asarray(calculate_auc(positive=True, method='gradcam')).mean(0)\n",
    "auc_neg_gradcam = np.asarray(calculate_auc(positive=False, method='gradcam')).mean(0)"
   ]
  },
  {
   "cell_type": "markdown",
   "metadata": {},
   "source": [
    "### AUC for DiffMask"
   ]
  },
  {
   "cell_type": "code",
   "execution_count": 7,
   "metadata": {},
   "outputs": [
    {
     "name": "stderr",
     "output_type": "stream",
     "text": [
      "100%|███████████████████████████████████████████| 50/50 [00:42<00:00,  1.18it/s]\n",
      "100%|███████████████████████████████████████████| 50/50 [00:42<00:00,  1.17it/s]\n"
     ]
    }
   ],
   "source": [
    "diffmask.set_vision_transformer(vit)\n",
    "\n",
    "auc_pos_diffmask = np.asarray(calculate_auc(positive=True)).mean(0)\n",
    "auc_neg_diffmask = np.asarray(calculate_auc(positive=False)).mean(0)"
   ]
  },
  {
   "cell_type": "markdown",
   "metadata": {},
   "source": [
    "### AUC for Attention-Rollout"
   ]
  },
  {
   "cell_type": "code",
   "execution_count": 8,
   "metadata": {},
   "outputs": [
    {
     "name": "stderr",
     "output_type": "stream",
     "text": [
      "100%|███████████████████████████████████████████| 50/50 [00:41<00:00,  1.20it/s]\n",
      "100%|███████████████████████████████████████████| 50/50 [00:41<00:00,  1.20it/s]\n"
     ]
    }
   ],
   "source": [
    "auc_pos_rollout = np.asarray(calculate_auc(positive=True, method='rollout')).mean(0)\n",
    "auc_neg_rollout = np.asarray(calculate_auc(positive=False, method='rollout')).mean(0)"
   ]
  },
  {
   "cell_type": "code",
   "execution_count": 15,
   "metadata": {},
   "outputs": [
    {
     "name": "stderr",
     "output_type": "stream",
     "text": [
      "  0%|                                                    | 0/50 [00:00<?, ?it/s]\n"
     ]
    },
    {
     "ename": "RuntimeError",
     "evalue": "Expected all tensors to be on the same device, but found at least two devices, cuda:0 and cpu!",
     "output_type": "error",
     "traceback": [
      "\u001b[0;31m---------------------------------------------------------------------------\u001b[0m",
      "\u001b[0;31mRuntimeError\u001b[0m                              Traceback (most recent call last)",
      "Input \u001b[0;32mIn [15]\u001b[0m, in \u001b[0;36m<cell line: 1>\u001b[0;34m()\u001b[0m\n\u001b[0;32m----> 1\u001b[0m auc_pos_chefer \u001b[38;5;241m=\u001b[39m np\u001b[38;5;241m.\u001b[39masarray(\u001b[43mcalculate_auc\u001b[49m\u001b[43m(\u001b[49m\u001b[43mpositive\u001b[49m\u001b[38;5;241;43m=\u001b[39;49m\u001b[38;5;28;43;01mTrue\u001b[39;49;00m\u001b[43m,\u001b[49m\u001b[43m \u001b[49m\u001b[43mmethod\u001b[49m\u001b[38;5;241;43m=\u001b[39;49m\u001b[38;5;124;43m'\u001b[39;49m\u001b[38;5;124;43mchefer\u001b[39;49m\u001b[38;5;124;43m'\u001b[39;49m\u001b[43m)\u001b[49m)\u001b[38;5;241m.\u001b[39mmean(\u001b[38;5;241m0\u001b[39m)\n\u001b[1;32m      2\u001b[0m auc_neg_chefer \u001b[38;5;241m=\u001b[39m np\u001b[38;5;241m.\u001b[39masarray(calculate_auc(positive\u001b[38;5;241m=\u001b[39m\u001b[38;5;28;01mFalse\u001b[39;00m, method\u001b[38;5;241m=\u001b[39m\u001b[38;5;124m'\u001b[39m\u001b[38;5;124mchefer\u001b[39m\u001b[38;5;124m'\u001b[39m))\u001b[38;5;241m.\u001b[39mmean(\u001b[38;5;241m0\u001b[39m)\n",
      "Input \u001b[0;32mIn [14]\u001b[0m, in \u001b[0;36mcalculate_auc\u001b[0;34m(positive, method)\u001b[0m\n\u001b[1;32m     51\u001b[0m \u001b[38;5;28;01melif\u001b[39;00m method \u001b[38;5;241m==\u001b[39m \u001b[38;5;124m'\u001b[39m\u001b[38;5;124mchefer\u001b[39m\u001b[38;5;124m'\u001b[39m:\n\u001b[1;32m     52\u001b[0m     images\u001b[38;5;241m.\u001b[39mrequires_grad \u001b[38;5;241m=\u001b[39m \u001b[38;5;28;01mTrue\u001b[39;00m\n\u001b[0;32m---> 53\u001b[0m     attributions \u001b[38;5;241m=\u001b[39m [chefer_attributions(vit\u001b[38;5;241m.\u001b[39mcuda(), img\u001b[38;5;241m.\u001b[39mcuda()) \u001b[38;5;28;01mfor\u001b[39;00m img \u001b[38;5;129;01min\u001b[39;00m images]\n\u001b[1;32m     54\u001b[0m comp \u001b[38;5;241m=\u001b[39m auc(vit, images, \u001b[38;5;28;01mNone\u001b[39;00m, attributions, num_tokens\u001b[38;5;241m=\u001b[39m\u001b[38;5;241m7\u001b[39m, k\u001b[38;5;241m=\u001b[39m\u001b[38;5;241m1\u001b[39m, positive\u001b[38;5;241m=\u001b[39mpositive)\n\u001b[1;32m     55\u001b[0m auc_positive\u001b[38;5;241m.\u001b[39mappend(comp)\n",
      "Input \u001b[0;32mIn [14]\u001b[0m, in \u001b[0;36m<listcomp>\u001b[0;34m(.0)\u001b[0m\n\u001b[1;32m     51\u001b[0m \u001b[38;5;28;01melif\u001b[39;00m method \u001b[38;5;241m==\u001b[39m \u001b[38;5;124m'\u001b[39m\u001b[38;5;124mchefer\u001b[39m\u001b[38;5;124m'\u001b[39m:\n\u001b[1;32m     52\u001b[0m     images\u001b[38;5;241m.\u001b[39mrequires_grad \u001b[38;5;241m=\u001b[39m \u001b[38;5;28;01mTrue\u001b[39;00m\n\u001b[0;32m---> 53\u001b[0m     attributions \u001b[38;5;241m=\u001b[39m [\u001b[43mchefer_attributions\u001b[49m\u001b[43m(\u001b[49m\u001b[43mvit\u001b[49m\u001b[38;5;241;43m.\u001b[39;49m\u001b[43mcuda\u001b[49m\u001b[43m(\u001b[49m\u001b[43m)\u001b[49m\u001b[43m,\u001b[49m\u001b[43m \u001b[49m\u001b[43mimg\u001b[49m\u001b[38;5;241;43m.\u001b[39;49m\u001b[43mcuda\u001b[49m\u001b[43m(\u001b[49m\u001b[43m)\u001b[49m\u001b[43m)\u001b[49m \u001b[38;5;28;01mfor\u001b[39;00m img \u001b[38;5;129;01min\u001b[39;00m images]\n\u001b[1;32m     54\u001b[0m comp \u001b[38;5;241m=\u001b[39m auc(vit, images, \u001b[38;5;28;01mNone\u001b[39;00m, attributions, num_tokens\u001b[38;5;241m=\u001b[39m\u001b[38;5;241m7\u001b[39m, k\u001b[38;5;241m=\u001b[39m\u001b[38;5;241m1\u001b[39m, positive\u001b[38;5;241m=\u001b[39mpositive)\n\u001b[1;32m     55\u001b[0m auc_positive\u001b[38;5;241m.\u001b[39mappend(comp)\n",
      "File \u001b[0;32m~/Desktop/UVA AI COURSES/block 5/dl2/Patch-DiffMask/experiments/../code/attributions/chefer.py:61\u001b[0m, in \u001b[0;36mchefer_attributions\u001b[0;34m(model, original_image, class_index, return_mask)\u001b[0m\n\u001b[1;32m     60\u001b[0m \u001b[38;5;28;01mdef\u001b[39;00m \u001b[38;5;21mchefer_attributions\u001b[39m(model, original_image, class_index\u001b[38;5;241m=\u001b[39m\u001b[38;5;28;01mNone\u001b[39;00m, return_mask\u001b[38;5;241m=\u001b[39m\u001b[38;5;28;01mTrue\u001b[39;00m):\n\u001b[0;32m---> 61\u001b[0m     transformer_attribution \u001b[38;5;241m=\u001b[39m \u001b[43mgenerate_relevance\u001b[49m\u001b[43m(\u001b[49m\u001b[43mmodel\u001b[49m\u001b[43m,\u001b[49m\u001b[43m \u001b[49m\u001b[43moriginal_image\u001b[49m\u001b[38;5;241;43m.\u001b[39;49m\u001b[43munsqueeze\u001b[49m\u001b[43m(\u001b[49m\u001b[38;5;241;43m0\u001b[39;49m\u001b[43m)\u001b[49m\u001b[43m,\u001b[49m\u001b[43m \u001b[49m\u001b[43mindex\u001b[49m\u001b[38;5;241;43m=\u001b[39;49m\u001b[43mclass_index\u001b[49m\u001b[43m)\u001b[49m\u001b[38;5;241m.\u001b[39mdetach()\n\u001b[1;32m     62\u001b[0m     transformer_attribution \u001b[38;5;241m=\u001b[39m transformer_attribution\u001b[38;5;241m.\u001b[39mreshape(\u001b[38;5;241m1\u001b[39m, \u001b[38;5;241m1\u001b[39m, \u001b[38;5;241m14\u001b[39m, \u001b[38;5;241m14\u001b[39m)\n\u001b[1;32m     63\u001b[0m     transformer_attribution \u001b[38;5;241m=\u001b[39m F\u001b[38;5;241m.\u001b[39minterpolate(transformer_attribution, scale_factor\u001b[38;5;241m=\u001b[39m\u001b[38;5;241m16\u001b[39m, mode\u001b[38;5;241m=\u001b[39m\u001b[38;5;124m'\u001b[39m\u001b[38;5;124mbilinear\u001b[39m\u001b[38;5;124m'\u001b[39m)\n",
      "File \u001b[0;32m~/Desktop/UVA AI COURSES/block 5/dl2/Patch-DiffMask/experiments/../code/attributions/chefer.py:38\u001b[0m, in \u001b[0;36mgenerate_relevance\u001b[0;34m(model, input, index)\u001b[0m\n\u001b[1;32m     36\u001b[0m one_hot[\u001b[38;5;241m0\u001b[39m, index] \u001b[38;5;241m=\u001b[39m \u001b[38;5;241m1\u001b[39m\n\u001b[1;32m     37\u001b[0m one_hot \u001b[38;5;241m=\u001b[39m torch\u001b[38;5;241m.\u001b[39mfrom_numpy(one_hot)\u001b[38;5;241m.\u001b[39mrequires_grad_(\u001b[38;5;28;01mTrue\u001b[39;00m)\n\u001b[0;32m---> 38\u001b[0m one_hot \u001b[38;5;241m=\u001b[39m torch\u001b[38;5;241m.\u001b[39msum(\u001b[43mone_hot\u001b[49m\u001b[43m \u001b[49m\u001b[38;5;241;43m*\u001b[39;49m\u001b[43m \u001b[49m\u001b[43moutput\u001b[49m)\n\u001b[1;32m     39\u001b[0m model\u001b[38;5;241m.\u001b[39mzero_grad()\n\u001b[1;32m     40\u001b[0m one_hot\u001b[38;5;241m.\u001b[39mbackward()\n",
      "\u001b[0;31mRuntimeError\u001b[0m: Expected all tensors to be on the same device, but found at least two devices, cuda:0 and cpu!"
     ]
    }
   ],
   "source": [
    "auc_pos_chefer = np.asarray(calculate_auc(positive=True, method='chefer')).mean(0)\n",
    "auc_neg_chefer = np.asarray(calculate_auc(positive=False, method='chefer')).mean(0)"
   ]
  },
  {
   "cell_type": "markdown",
   "metadata": {},
   "source": [
    "### Plot AUC"
   ]
  },
  {
   "cell_type": "code",
   "execution_count": 8,
   "metadata": {
    "scrolled": true
   },
   "outputs": [
    {
     "data": {
      "image/png": "[encoded data removed]",
      "text/plain": [
       "<Figure size 432x288 with 1 Axes>"
      ]
     },
     "metadata": {
      "needs_background": "light"
     },
     "output_type": "display_data"
    }
   ],
   "source": [
    "plt.plot(auc_pos_diffmask, label=\"DiffMask\")\n",
    "plt.plot(auc_pos_rollout, label=\"Attention Rollout\")\n",
    "plt.plot(auc_pos_gradcam, label=\"Grad-CAM\")\n",
    "plt.plot(auc_pos_chefer, label=\"Chefer et al.\")\n",
    "plt.xlabel(\"Percentage of positive pixels removed\")\n",
    "len_x = len(auc_pos_diffmask)\n",
    "x_ticks = np.arange(0, len_x, 3)\n",
    "x_ticks_labels = [str(int(x * 100 / len_x)) + \"%\" for x in x_ticks]\n",
    "plt.xticks(x_ticks, x_ticks_labels)\n",
    "plt.legend()\n",
    "plt.show()"
   ]
  },
  {
   "cell_type": "code",
   "execution_count": 9,
   "metadata": {},
   "outputs": [
    {
     "data": {
      "image/png": "[encoded data removed]",
      "text/plain": [
       "<Figure size 432x288 with 1 Axes>"
      ]
     },
     "metadata": {
      "needs_background": "light"
     },
     "output_type": "display_data"
    }
   ],
   "source": [
    "plt.clf()\n",
    "plt.plot(auc_neg_diffmask, label=\"DiffMask\")\n",
    "plt.plot(auc_neg_rollout, label=\"Attention Rollout\")\n",
    "plt.plot(auc_neg_gradcam, label=\"Grad-CAM\")\n",
    "plt.plot(auc_neg_chefer, label=\"Chefer et al.\")\n",
    "len_x = len(auc_neg_diffmask)\n",
    "x_ticks = np.arange(0, len_x, 3)\n",
    "x_ticks_labels = [str(int(x * 100 / len_x)) + \"%\" for x in x_ticks]\n",
    "plt.xticks(x_ticks, x_ticks_labels)\n",
    "plt.xlabel(\"Percentage of negative pixels removed\")\n",
    "plt.legend()\n",
    "plt.show()"
   ]
  },
  {
   "cell_type": "markdown",
   "metadata": {},
   "source": [
    "# Accuracy and KL-Divergence"
   ]
  },
  {
   "cell_type": "markdown",
   "metadata": {},
   "source": []
  },
  {
   "cell_type": "markdown",
   "metadata": {
    "pycharm": {
     "name": "#%% md\n"
    }
   },
   "source": [
    "### Function to measure KL-divergence and Accuracy between masked & unmasked input"
   ]
  },
  {
   "cell_type": "code",
   "execution_count": null,
   "metadata": {
    "pycharm": {
     "name": "#%%\n"
    }
   },
   "outputs": [],
   "source": [
    "@torch.no_grad()\n",
    "def get_kld_and_acc(model, input, labels, mask, b, n_hidden=14, patch_size=16):\n",
    "    # Reshape mask to hidden states' shape\n",
    "    B, H, W = mask.shape\n",
    "    mask = mask.reshape(B, 1, H, W)\n",
    "    mask = F.interpolate(mask, scale_factor=1/patch_size)\n",
    "    mask = mask.reshape(B, -1, 1)\n",
    "    \n",
    "    # Get hidden states from unmasked input\n",
    "    logits_orig, hidden_states = vit_getter(model, input)\n",
    "    \n",
    "    # Calculate hidden states from masked input\n",
    "    new_hidden_states = hidden_states[0] * mask + b * (1 - mask)\n",
    "    new_hidden_states = [new_hidden_states] + [None] * (n_hidden - 1)\n",
    "    \n",
    "    # Append CLS token\n",
    "    cls_tokens = model.vit.embeddings.cls_token.expand(B, -1, -1)\n",
    "    new_hidden_states[0] = torch.cat((cls_tokens, new_hidden_states[0]), dim=1)\n",
    "\n",
    "    # Get logits from new hidden states (masked input)\n",
    "    logits, _ = vit_setter(model, input, new_hidden_states)\n",
    "    \n",
    "    pred_class = logits.argmax(-1)\n",
    "    acc = pred_class == labels\n",
    "\n",
    "    # Compute KL divergence between the logits from the original and the masked input\n",
    "    kl_div = torch.distributions.kl_divergence(\n",
    "                torch.distributions.Categorical(logits=logits_orig),\n",
    "                torch.distributions.Categorical(logits=logits),\n",
    "            )\n",
    "    \n",
    "    return kl_div, acc"
   ]
  },
  {
   "cell_type": "markdown",
   "metadata": {
    "pycharm": {
     "name": "#%% md\n"
    }
   },
   "source": [
    "### KL-Divergence and Accuracy for Grad-CAM"
   ]
  },
  {
   "cell_type": "code",
   "execution_count": null,
   "metadata": {
    "pycharm": {
     "name": "#%%\n"
    }
   },
   "outputs": [],
   "source": [
    "klds = []\n",
    "accs = []\n",
    "masks_percentage = []\n",
    "\n",
    "for images, labels in tqdm(dataloader):\n",
    "    images, labels = images.cuda(), labels.cuda()\n",
    "    gradcam_masks = grad_cam(images, vit, True if device=='cuda' else False)\n",
    "    masked_pixels_percentages = [100 * (1 - mask.mean(-1).mean(-1).item()) for mask in gradcam_masks]\n",
    "    kld, acc = get_kld_and_acc(vit, images, labels, gradcam_masks.cuda(), diffmask.gate.placeholder)\n",
    "    klds.append(kld)\n",
    "    accs.append(acc)\n",
    "    masks_percentage.extend(masked_pixels_percentages)\n",
    "\n",
    "    \n",
    "klds = torch.cat(klds)\n",
    "accs = torch.cat(accs)\n",
    "print(f\"Grad-CAM mean KL-Divergence: {klds.mean()}\")\n",
    "print(f\"Grad-CAM accuracy: {torch.sum(accs)/ len(accs)}\")\n",
    "print(f\"Masking percentage: {np.mean(masks_percentage)}\")"
   ]
  },
  {
   "cell_type": "markdown",
   "metadata": {
    "pycharm": {
     "name": "#%% md\n"
    }
   },
   "source": [
    "### KL-Divergence and Accuracy for Attention Rollout"
   ]
  },
  {
   "cell_type": "code",
   "execution_count": null,
   "metadata": {
    "pycharm": {
     "name": "#%%\n"
    }
   },
   "outputs": [],
   "source": [
    "klds = []\n",
    "accs = []\n",
    "masks_percentage = []\n",
    "\n",
    "for images, labels in tqdm(dataloader):\n",
    "    images, labels = images.cuda(), labels.cuda()\n",
    "    rollout_masks = attention_rollout(images=images, vit=vit, device=device)\n",
    "    masked_pixels_percentages = [100 * (1 - mask.mean(-1).mean(-1).item()) for mask in rollout_masks]\n",
    "    kld, acc = get_kld_and_acc(vit, images, labels, rollout_masks, diffmask.gate.placeholder)\n",
    "    klds.append(kld)\n",
    "    accs.append(acc)\n",
    "    masks_percentage.extend(masked_pixels_percentages)\n",
    "\n",
    "    \n",
    "klds = torch.cat(klds)\n",
    "accs = torch.cat(accs)\n",
    "print(f\"Rollout mean KL-Divergence: {klds.mean()}\")\n",
    "print(f\"Rollout accuracy: {torch.sum(accs)/ len(accs)}\")\n",
    "print(f\"Masking percentage: {np.mean(masks_percentage)}\")"
   ]
  },
  {
   "cell_type": "markdown",
   "metadata": {
    "pycharm": {
     "name": "#%% md\n"
    }
   },
   "source": [
    "### KL-Divergence and Accuracy for DiffMask"
   ]
  },
  {
   "cell_type": "code",
   "execution_count": null,
   "metadata": {
    "pycharm": {
     "name": "#%%\n"
    }
   },
   "outputs": [],
   "source": [
    "diffmask.set_vision_transformer(vit)\n",
    "\n",
    "klds = []\n",
    "accs = []\n",
    "masks_percentage = []\n",
    "\n",
    "for i, (images, labels) in enumerate(tqdm(dataloader)):\n",
    "    if i == 10: break\n",
    "    images, labels = images.cuda(), labels.cuda()\n",
    "    diff_masks = diffmask.get_mask(images)[\"mask\"].detach()\n",
    "    masked_pixels_percentages = [100 * (1 - mask.mean(-1).mean(-1).item()) for mask in diff_masks]\n",
    "    kld, acc = get_kld_and_acc(vit, images, labels, diff_masks, diffmask.gate.placeholder)\n",
    "    klds.append(kld)\n",
    "    accs.append(acc)\n",
    "    masks_percentage.extend(masked_pixels_percentages)\n",
    "\n",
    "klds = torch.cat(klds)\n",
    "accs = torch.cat(accs)\n",
    "print(f\"Diffmask mean KL-Divergence: {klds.mean()}\")\n",
    "print(f\"Diffmask accuracy: {torch.sum(accs)/ len(accs)}\")\n",
    "print(f\"Masking percentage: {np.mean(masks_percentage)}\")"
   ]
  },
  {
   "cell_type": "code",
   "execution_count": null,
   "metadata": {},
   "outputs": [],
   "source": []
  }
 ],
 "metadata": {
  "interpreter": {
   "hash": "f313bec56c1976e4c29c99905da437d30c1f75edce67ef26f4d41ac4d75ee169"
  },
  "kernelspec": {
   "display_name": "Python 3 (ipykernel)",
   "language": "python",
   "name": "python3"
  },
  "language_info": {
   "codemirror_mode": {
    "name": "ipython",
    "version": 3
   },
   "file_extension": ".py",
   "mimetype": "text/x-python",
   "name": "python",
   "nbconvert_exporter": "python",
   "pygments_lexer": "ipython3",
   "version": "3.9.12"
  }
 },
 "nbformat": 4,
 "nbformat_minor": 2
}
