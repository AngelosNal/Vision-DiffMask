{
 "cells": [
  {
   "cell_type": "code",
   "execution_count": 1,
   "metadata": {
    "pycharm": {
     "name": "#%%\n"
    }
   },
   "outputs": [],
   "source": [
    "import sys\n",
    "sys.path.insert(0,'../code')"
   ]
  },
  {
   "cell_type": "code",
   "execution_count": 2,
   "metadata": {
    "pycharm": {
     "name": "#%%\n"
    }
   },
   "outputs": [
    {
     "name": "stderr",
     "output_type": "stream",
     "text": [
      "Global seed set to 25\n"
     ]
    }
   ],
   "source": [
    "import pytorch_lightning as pl\n",
    "seed = pl.seed_everything(25)"
   ]
  },
  {
   "cell_type": "code",
   "execution_count": 3,
   "metadata": {
    "pycharm": {
     "name": "#%%\n"
    }
   },
   "outputs": [],
   "source": [
    "from argparse import Namespace\n",
    "args = Namespace(\n",
    "    base_model=\"ViT\",\n",
    "    checkpoint=\"../checkpoints/ViT_toy 3x3/epoch=99-step=15000.ckpt\",\n",
    "    from_pretrained=\"../checkpoints/ViT_toy 3x3\",\n",
    "    weighted_layer_distribution=True,\n",
    "    dataset=\"toy\",\n",
    "    class_idx=3,\n",
    "    grid_size=3,\n",
    "    batch_size=5,\n",
    "    add_noise=False,\n",
    "    add_rotation=False,\n",
    "    add_blur=False,\n",
    "    num_workers=4,\n",
    ")"
   ]
  },
  {
   "cell_type": "markdown",
   "metadata": {
    "pycharm": {
     "name": "#%% md\n"
    }
   },
   "source": [
    "### Load model from checkpoint"
   ]
  },
  {
   "cell_type": "code",
   "execution_count": 4,
   "metadata": {
    "pycharm": {
     "name": "#%%\n"
    }
   },
   "outputs": [],
   "source": [
    "from models.interpretation import ImageInterpretationNet\n",
    "from transformers import ViTForImageClassification"
   ]
  },
  {
   "cell_type": "code",
   "execution_count": 5,
   "metadata": {
    "pycharm": {
     "name": "#%%\n"
    }
   },
   "outputs": [],
   "source": [
    "# Initialize the ViT and DiffMask models from the checkpoint\n",
    "vit_model = ViTForImageClassification.from_pretrained(args.from_pretrained)\n",
    "diffmask_model = ImageInterpretationNet.load_from_checkpoint(\n",
    "    args.checkpoint,\n",
    "    model_cfg=vit_model.config,\n",
    ")\n",
    "diffmask_model.set_vision_transformer(vit_model)\n",
    "diffmask_model.eval();"
   ]
  },
  {
   "cell_type": "markdown",
   "metadata": {
    "pycharm": {
     "name": "#%% md\n"
    }
   },
   "source": [
    "### Generate sample images"
   ]
  },
  {
   "cell_type": "code",
   "execution_count": 6,
   "metadata": {
    "pycharm": {
     "name": "#%%\n"
    }
   },
   "outputs": [],
   "source": [
    "from datamodules.utils import datamodule_factory"
   ]
  },
  {
   "cell_type": "code",
   "execution_count": 7,
   "metadata": {
    "pycharm": {
     "name": "#%%\n"
    }
   },
   "outputs": [],
   "source": [
    "dm = datamodule_factory(args)\n",
    "dm.prepare_data()\n",
    "dm.setup(\"test\")\n",
    "X, Y = next(iter(dm.test_dataloader()))"
   ]
  },
  {
   "cell_type": "markdown",
   "metadata": {
    "pycharm": {
     "name": "#%% md\n"
    }
   },
   "source": [
    "### Compute DiffMask masks"
   ]
  },
  {
   "cell_type": "code",
   "execution_count": 8,
   "metadata": {
    "pycharm": {
     "name": "#%%\n"
    }
   },
   "outputs": [],
   "source": [
    "out = diffmask_model.get_mask(X)\n",
    "masks = out[\"mask\"].detach()"
   ]
  },
  {
   "cell_type": "markdown",
   "metadata": {
    "pycharm": {
     "name": "#%% md\n"
    }
   },
   "source": [
    "### Visualize results"
   ]
  },
  {
   "cell_type": "code",
   "execution_count": 9,
   "metadata": {
    "pycharm": {
     "name": "#%%\n"
    }
   },
   "outputs": [],
   "source": [
    "from utils.plot import draw_mask_on_image, unnormalize\n",
    "import matplotlib.pyplot as plt\n",
    "import torch"
   ]
  },
  {
   "cell_type": "code",
   "execution_count": 10,
   "metadata": {
    "pycharm": {
     "name": "#%%\n"
    }
   },
   "outputs": [],
   "source": [
    "def add_transparency(image):\n",
    "    t_zero = torch.tensor(0.)\n",
    "\n",
    "    C, H, W = image.shape\n",
    "    image = image.reshape(C, -1)\n",
    "    for i, patch in enumerate(image.sum(dim=0)):\n",
    "        if patch.sum().allclose(t_zero):\n",
    "            image[:, i] = 1\n",
    "\n",
    "    return image.reshape(C, H, W)\n",
    "\n",
    "def get_classname(idx):\n",
    "    if hasattr(dm.feature_extractor, \"id2label\"):\n",
    "        return dm.feature_extractor.id2label[idx]\n",
    "    elif idx == 1:\n",
    "        return \"1 instance\"\n",
    "    else:\n",
    "        return f\"{idx} instances\"\n",
    "\n",
    "def plot(ax, image, ylabel):\n",
    "    ax.imshow(image.permute(1,2,0))\n",
    "    ax.set_xticks([])\n",
    "    ax.set_yticks([])\n",
    "    if ylabel:\n",
    "        ax.set_ylabel(ylabel, fontsize=16)"
   ]
  },
  {
   "cell_type": "code",
   "execution_count": 11,
   "metadata": {
    "pycharm": {
     "name": "#%%\n"
    }
   },
   "outputs": [
    {
     "data": {
      "image/png": "[encoded data removed]",
      "text/plain": [
       "<Figure size 1008x360 with 10 Axes>"
      ]
     },
     "metadata": {},
     "output_type": "display_data"
    }
   ],
   "source": [
    "_, axs = plt.subplots(2, len(X), figsize=(14, 5))\n",
    "\n",
    "for i, (img, mask, y) in enumerate(zip(unnormalize(X), masks, Y)):\n",
    "    masked_img = draw_mask_on_image(img, mask)\n",
    "    masked_img = add_transparency(masked_img)\n",
    "\n",
    "    label1 = \"Original Image\" if i == 0 else None\n",
    "    label2 = \"Masked Image\" if i == 0 else None\n",
    "    plot(axs[0][i], img, label1)\n",
    "    plot(axs[1][i], masked_img, label2)\n",
    "    axs[0][i].set_title(f\"Ground truth:\\n{get_classname(y.item())}\", fontsize=16)\n",
    "\n",
    "plt.tight_layout()\n",
    "plt.savefig(\"toy.eps\")"
   ]
  }
 ],
 "metadata": {
  "kernelspec": {
   "display_name": "Python 3 (ipykernel)",
   "language": "python",
   "name": "python3"
  },
  "language_info": {
   "codemirror_mode": {
    "name": "ipython",
    "version": 3
   },
   "file_extension": ".py",
   "mimetype": "text/x-python",
   "name": "python",
   "nbconvert_exporter": "python",
   "pygments_lexer": "ipython3",
   "version": "3.9.12"
  }
 },
 "nbformat": 4,
 "nbformat_minor": 1
}